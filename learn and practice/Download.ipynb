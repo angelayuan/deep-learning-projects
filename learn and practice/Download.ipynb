{
 "cells": [
  {
   "cell_type": "code",
   "execution_count": 6,
   "metadata": {
    "collapsed": true
   },
   "outputs": [],
   "source": [
    "# make directories for downloads\n",
    "!mkdir downloads\n",
    "!mkdir downloads_zip"
   ]
  },
  {
   "cell_type": "code",
   "execution_count": 7,
   "metadata": {
    "collapsed": true
   },
   "outputs": [],
   "source": [
    "# copy files\n",
    "!cp ./nb_images downloads/nb_images -R"
   ]
  },
  {
   "cell_type": "code",
   "execution_count": 8,
   "metadata": {
    "collapsed": true
   },
   "outputs": [],
   "source": [
    "# list symbolic links pointing to itself (if there is nothing here there is no need to run the next cell)\n",
    "# remove symbolic links pointing to itself (if any)\n",
    "!cd downloads/ && find ./ -type l -exec sh -c 'readlink -f \"{}\" 1>/dev/null || rm \"{}\"' -- \"{}\" \\;"
   ]
  },
  {
   "cell_type": "code",
   "execution_count": 9,
   "metadata": {
    "collapsed": true
   },
   "outputs": [],
   "source": [
    "# copy files again and this time also download symlinks content\n",
    "!tar -hcf - downloads | tar -xf - -C downloads_zip"
   ]
  },
  {
   "cell_type": "code",
   "execution_count": 10,
   "metadata": {},
   "outputs": [
    {
     "name": "stdout",
     "output_type": "stream",
     "text": [
      "downloads_zip/\n",
      "downloads_zip/downloads/\n",
      "downloads_zip/downloads/nb_images/\n",
      "downloads_zip/downloads/nb_images/pred_video.mp4\n",
      "downloads_zip/downloads/nb_images/iou.png\n",
      "downloads_zip/downloads/nb_images/proba_map.png\n",
      "downloads_zip/downloads/nb_images/probability_extraction.png\n",
      "downloads_zip/downloads/nb_images/prediction_video_compressed.mp4\n",
      "downloads_zip/downloads/nb_images/pred_video_compressed2.mp4\n",
      "downloads_zip/downloads/nb_images/architecture.png\n",
      "downloads_zip/downloads/nb_images/road_video_compressed2.mp4\n",
      "downloads_zip/downloads/nb_images/flatten.png\n",
      "downloads_zip/downloads/nb_images/non-max-suppression.png\n",
      "downloads_zip/downloads/nb_images/box_label.png\n",
      "downloads_zip/downloads/nb_images/anchor_map.png\n",
      "downloads_zip/downloads/nb_images/road_video.mp4\n",
      "downloads_zip/downloads/nb_images/driveai.png\n",
      "downloads_zip/downloads/nb_images/road_video_compressed.mp4\n"
     ]
    }
   ],
   "source": [
    "# gz the files\n",
    "!tar cvfz downloads_zip.tar.gz \\\n",
    "    'downloads_zip' \\"
   ]
  },
  {
   "cell_type": "code",
   "execution_count": null,
   "metadata": {
    "collapsed": true
   },
   "outputs": [],
   "source": []
  }
 ],
 "metadata": {
  "kernelspec": {
   "display_name": "Python 3",
   "language": "python",
   "name": "python3"
  },
  "language_info": {
   "codemirror_mode": {
    "name": "ipython",
    "version": 3
   },
   "file_extension": ".py",
   "mimetype": "text/x-python",
   "name": "python",
   "nbconvert_exporter": "python",
   "pygments_lexer": "ipython3",
   "version": "3.6.0"
  }
 },
 "nbformat": 4,
 "nbformat_minor": 2
}
