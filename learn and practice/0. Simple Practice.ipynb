{
 "cells": [
  {
   "cell_type": "code",
   "execution_count": 1,
   "metadata": {},
   "outputs": [
    {
     "name": "stdout",
     "output_type": "stream",
     "text": [
      "[1 2 3 4]\n"
     ]
    }
   ],
   "source": [
    "# vectorization example\n",
    "import numpy as np\n",
    "\n",
    "a = np.array([1,2,3,4])\n",
    "print(a)"
   ]
  },
  {
   "cell_type": "code",
   "execution_count": 9,
   "metadata": {},
   "outputs": [
    {
     "name": "stdout",
     "output_type": "stream",
     "text": [
      "249969.35042622726\n",
      "Vectorized version: 1.4493465423583984ms\n",
      "249969.3504262469\n",
      "for loop: 513.9269828796387ms\n"
     ]
    }
   ],
   "source": [
    "import time\n",
    "\n",
    "a = np.random.rand(1000000)\n",
    "b = np.random.rand(1000000)\n",
    "\n",
    "tic = time.time()\n",
    "c = np.dot(a,b)\n",
    "toc = time.time()\n",
    "\n",
    "print(c)\n",
    "print(\"Vectorized version: \" + str(1000*(toc-tic)) + \"ms\")\n",
    "\n",
    "c = 0\n",
    "tic = time.time()\n",
    "for i in range(1000000):\n",
    "    c += a[i]*b[i]\n",
    "toc = time.time()\n",
    "\n",
    "print(c)\n",
    "print(\"for loop: \" + str(1000*(toc-tic)) + \"ms\")"
   ]
  },
  {
   "cell_type": "code",
   "execution_count": 14,
   "metadata": {},
   "outputs": [
    {
     "name": "stdout",
     "output_type": "stream",
     "text": [
      "[[ 56.    0.    4.4  68. ]\n",
      " [  1.2 104.   52.    8. ]\n",
      " [  1.8 135.   99.    0.9]]\n"
     ]
    }
   ],
   "source": [
    "# broadcasting example\n",
    "A = np.array([[56,0,4.4,68],\n",
    "              [1.2,104,52,8],\n",
    "              [1.8,135,99,0.9]])\n",
    "print(A)"
   ]
  },
  {
   "cell_type": "code",
   "execution_count": 15,
   "metadata": {},
   "outputs": [
    {
     "name": "stdout",
     "output_type": "stream",
     "text": [
      "[ 59.  239.  155.4  76.9]\n"
     ]
    }
   ],
   "source": [
    "cal = A.sum(axis=0)\n",
    "print(cal)"
   ]
  },
  {
   "cell_type": "code",
   "execution_count": 17,
   "metadata": {},
   "outputs": [
    {
     "name": "stdout",
     "output_type": "stream",
     "text": [
      "[[94.91525424  0.          2.83140283 88.42652796]\n",
      " [ 2.03389831 43.51464435 33.46203346 10.40312094]\n",
      " [ 3.05084746 56.48535565 63.70656371  1.17035111]]\n",
      "[[94.91525424  0.          2.83140283 88.42652796]\n",
      " [ 2.03389831 43.51464435 33.46203346 10.40312094]\n",
      " [ 3.05084746 56.48535565 63.70656371  1.17035111]]\n"
     ]
    }
   ],
   "source": [
    "percentage = 100*A/cal.reshape(1,4)\n",
    "print(percentage)\n",
    "\n",
    "percentage = 100*A/cal\n",
    "print(percentage)"
   ]
  },
  {
   "cell_type": "code",
   "execution_count": 20,
   "metadata": {},
   "outputs": [
    {
     "name": "stdout",
     "output_type": "stream",
     "text": [
      "[ 0.65409413 -1.64217235  0.90925035  0.58697079 -0.5017652 ]\n",
      "(5,)\n",
      "[ 0.65409413 -1.64217235  0.90925035  0.58697079 -0.5017652 ]\n"
     ]
    }
   ],
   "source": [
    "# python-numpy vectors\n",
    "a = np.random.randn(5) # this is neither a row vector nor a col vector\n",
    "                       # this is a \"rank 1 array\"\n",
    "print(a)\n",
    "print(a.shape)\n",
    "print(a.T)"
   ]
  },
  {
   "cell_type": "code",
   "execution_count": 21,
   "metadata": {},
   "outputs": [
    {
     "name": "stdout",
     "output_type": "stream",
     "text": [
      "[ 0.65409413 -1.64217235  0.90925035  0.58697079 -0.5017652 ] [ 0.65409413 -1.64217235  0.90925035  0.58697079 -0.5017652 ]\n"
     ]
    }
   ],
   "source": [
    "print(a,a.T)"
   ]
  },
  {
   "cell_type": "code",
   "execution_count": 24,
   "metadata": {},
   "outputs": [
    {
     "name": "stdout",
     "output_type": "stream",
     "text": [
      "[[0.57625501]\n",
      " [0.94476897]\n",
      " [0.78083477]\n",
      " [0.26860434]\n",
      " [0.08698553]]\n",
      "[[0.57625501 0.94476897 0.78083477 0.26860434 0.08698553]]\n"
     ]
    }
   ],
   "source": [
    "# use the following way but not the above \"rank 1 array\"\n",
    "a = np.random.rand(5,1)\n",
    "print(a)\n",
    "print(a.T)"
   ]
  },
  {
   "cell_type": "code",
   "execution_count": 25,
   "metadata": {},
   "outputs": [
    {
     "name": "stdout",
     "output_type": "stream",
     "text": [
      "[[0.33206983 0.54442785 0.44995994 0.1547846  0.05012585]\n",
      " [0.54442785 0.8925884  0.73770846 0.25376905 0.08218123]\n",
      " [0.44995994 0.73770846 0.60970294 0.20973561 0.06792132]\n",
      " [0.1547846  0.25376905 0.20973561 0.07214829 0.02336469]\n",
      " [0.05012585 0.08218123 0.06792132 0.02336469 0.00756648]]\n"
     ]
    }
   ],
   "source": [
    "print(np.dot(a,a.T)) # outer product"
   ]
  },
  {
   "cell_type": "code",
   "execution_count": 28,
   "metadata": {},
   "outputs": [
    {
     "name": "stdout",
     "output_type": "stream",
     "text": [
      "[[1.91407595]]\n"
     ]
    }
   ],
   "source": [
    "print(np.dot(a.T,a)) # inner product"
   ]
  },
  {
   "cell_type": "code",
   "execution_count": 32,
   "metadata": {},
   "outputs": [],
   "source": [
    "assert(a.shape == (5,1)) \n",
    "# it assumes a.shape is 5 by 1; \n",
    "# if it is false, assert will throw errors"
   ]
  }
 ],
 "metadata": {
  "kernelspec": {
   "display_name": "Python 3",
   "language": "python",
   "name": "python3"
  },
  "language_info": {
   "codemirror_mode": {
    "name": "ipython",
    "version": 3
   },
   "file_extension": ".py",
   "mimetype": "text/x-python",
   "name": "python",
   "nbconvert_exporter": "python",
   "pygments_lexer": "ipython3",
   "version": "3.6.5"
  }
 },
 "nbformat": 4,
 "nbformat_minor": 2
}
